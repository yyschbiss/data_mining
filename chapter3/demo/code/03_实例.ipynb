{
 "cells": [
  {
   "cell_type": "code",
   "execution_count": 11,
   "metadata": {
    "collapsed": true
   },
   "outputs": [
    {
     "name": "stdout",
     "output_type": "stream",
     "text": [
      "     0    1    2    3    4    5    6\n",
      "0  1.0  1.0  1.0  1.0  1.0  1.0  1.0\n",
      "1  1.0  1.0  1.0  1.0  1.0  1.0  1.0\n",
      "2  1.0  1.0  1.0  1.0  1.0  1.0  1.0\n",
      "3  1.0  1.0  1.0  1.0  1.0  1.0  1.0\n",
      "4  1.0  1.0  1.0  1.0  1.0  1.0  1.0\n",
      "5  1.0  1.0  1.0  1.0  1.0  1.0  1.0\n",
      "6  1.0  1.0  1.0  1.0  1.0  1.0  1.0\n",
      "1.0\n"
     ]
    }
   ],
   "source": [
    "# -*- coding: utf-8 -*-\n",
    "\n",
    "# 代码3-10 计算两个列向量的相关系数\n",
    "import pandas as pd\n",
    "D = pd.DataFrame([range(1, 8), range(2, 9)])  # 生成样本D，一行为1~7，一行为2~8\n",
    "print(D.corr(method='spearman'))  # 计算相关系数矩阵\n",
    "S1 = D.loc[0]  # 提取第一行\n",
    "S2 = D.loc[1]  # 提取第二行\n",
    "print(S1.corr(S2, method='pearson'))  # 计算S1、S2的相关系数"
   ]
  },
  {
   "cell_type": "code",
   "execution_count": 13,
   "outputs": [
    {
     "name": "stdout",
     "output_type": "stream",
     "text": [
      "          0         1         2         3         4\n",
      "0  0.407036  0.155916  0.264946  0.042538 -0.294607\n",
      "1  0.155916  0.714283 -0.182079  0.872127  0.257195\n",
      "2  0.264946 -0.182079  0.960366 -0.669232 -0.675376\n",
      "3  0.042538  0.872127 -0.669232  1.347242  0.513118\n",
      "4 -0.294607  0.257195 -0.675376  0.513118  1.019269\n",
      "0.15591596592310497\n"
     ]
    }
   ],
   "source": [
    "# 代码3-11 计算6×5随机矩阵的协方差矩阵\n",
    "\n",
    "import numpy as np\n",
    "D = pd.DataFrame(np.random.randn(6, 5))  # 产生6×5随机矩阵\n",
    "print(D.cov())  # 计算协方差矩阵\n",
    "print(D[0].cov(D[1]))  # 计算第一列和第二列的协方差"
   ],
   "metadata": {
    "collapsed": false,
    "pycharm": {
     "name": "#%%\n"
    }
   }
  },
  {
   "cell_type": "code",
   "execution_count": 14,
   "outputs": [
    {
     "name": "stdout",
     "output_type": "stream",
     "text": [
      "0   -1.081998\n",
      "1    0.046473\n",
      "2   -0.618769\n",
      "3    0.017028\n",
      "4    0.168266\n",
      "dtype: float64\n",
      "0    1.33147\n",
      "1    0.30295\n",
      "2   -1.75951\n",
      "3   -0.45430\n",
      "4   -1.62957\n",
      "dtype: float64\n"
     ]
    }
   ],
   "source": [
    "# 代码3-12 计算6×5随机矩阵的偏度（三阶矩）∕峰度（四阶矩）\n",
    "import numpy as np\n",
    "D = pd.DataFrame(np.random.randn(6, 5))  # 产生6×5随机矩阵\n",
    "print(D.skew())  # 计算偏度\n",
    "print(D.kurt())  # 计算峰度"
   ],
   "metadata": {
    "collapsed": false,
    "pycharm": {
     "name": "#%%\n"
    }
   }
  },
  {
   "cell_type": "code",
   "execution_count": 15,
   "outputs": [
    {
     "name": "stdout",
     "output_type": "stream",
     "text": [
      "              0         1         2         3         4\n",
      "count  6.000000  6.000000  6.000000  6.000000  6.000000\n",
      "mean  -0.314298  0.180536 -0.296485  0.690483  0.026682\n",
      "std    0.619820  1.350710  1.024864  1.138271  1.516158\n",
      "min   -1.278760 -2.173648 -2.038775 -1.517360 -2.453742\n",
      "25%   -0.602177 -0.359939 -0.619818  0.741735 -0.642549\n",
      "50%   -0.207923  0.788544 -0.107034  0.944006  0.341509\n",
      "75%   -0.034427  1.032654  0.194017  1.330800  0.975424\n",
      "max    0.519010  1.308516  0.970311  1.638203  1.714658\n"
     ]
    }
   ],
   "source": [
    "# 代码3-13 6×5随机矩阵的describe\n",
    "\n",
    "import numpy as np\n",
    "D = pd.DataFrame(np.random.randn(6, 5))  # 产生6×5随机矩阵\n",
    "print(D.describe())"
   ],
   "metadata": {
    "collapsed": false,
    "pycharm": {
     "name": "#%%\n"
    }
   }
  },
  {
   "cell_type": "code",
   "execution_count": 16,
   "outputs": [
    {
     "name": "stdout",
     "output_type": "stream",
     "text": [
      "0       0\n",
      "1       1\n",
      "2       3\n",
      "3       6\n",
      "4      10\n",
      "5      15\n",
      "6      21\n",
      "7      28\n",
      "8      36\n",
      "9      45\n",
      "10     55\n",
      "11     66\n",
      "12     78\n",
      "13     91\n",
      "14    105\n",
      "15    120\n",
      "16    136\n",
      "17    153\n",
      "18    171\n",
      "19    190\n",
      "dtype: int64\n",
      "0      NaN\n",
      "1      1.0\n",
      "2      3.0\n",
      "3      5.0\n",
      "4      7.0\n",
      "5      9.0\n",
      "6     11.0\n",
      "7     13.0\n",
      "8     15.0\n",
      "9     17.0\n",
      "10    19.0\n",
      "11    21.0\n",
      "12    23.0\n",
      "13    25.0\n",
      "14    27.0\n",
      "15    29.0\n",
      "16    31.0\n",
      "17    33.0\n",
      "18    35.0\n",
      "19    37.0\n",
      "dtype: float64\n"
     ]
    }
   ],
   "source": [
    "# 代码3-14 pandas累积统计特征函数、移动窗口统计函数示例\n",
    "\n",
    "D=pd.Series(range(0, 20))  # 构造Series，内容为0~19共20个整数\n",
    "print(D.cumsum())  # 给出前n项和\n",
    "print(D.rolling(2).sum())  # 依次对相邻两项求和"
   ],
   "metadata": {
    "collapsed": false,
    "pycharm": {
     "name": "#%%\n"
    }
   }
  },
  {
   "cell_type": "code",
   "execution_count": 17,
   "outputs": [
    {
     "data": {
      "text/plain": "<Figure size 504x360 with 0 Axes>"
     },
     "execution_count": 17,
     "metadata": {},
     "output_type": "execute_result"
    },
    {
     "data": {
      "text/plain": "<Figure size 504x360 with 0 Axes>"
     },
     "metadata": {},
     "output_type": "display_data"
    }
   ],
   "source": [
    "# 代码3-15 绘图之前需要加载的代码\n",
    "import matplotlib.pyplot as plt  # 导入绘图库\n",
    "plt.rcParams['font.sans-serif'] = ['SimHei']  # 用来正常显示中文标签\n",
    "plt.rcParams['axes.unicode_minus'] = False  # 用来正常显示负号\n",
    "plt.figure(figsize = (7, 5))  # 创建图像区域，指定比例"
   ],
   "metadata": {
    "collapsed": false,
    "pycharm": {
     "name": "#%%\n"
    }
   }
  },
  {
   "cell_type": "code",
   "execution_count": 18,
   "outputs": [
    {
     "data": {
      "text/plain": "<Figure size 432x288 with 1 Axes>",
      "image/png": "[encoded data removed]"
     },
     "metadata": {
      "needs_background": "light"
     },
     "output_type": "display_data"
    }
   ],
   "source": [
    "# 代码3-16 绘制一条蓝色的正弦虚线\n",
    "\n",
    "import numpy as np\n",
    "x = np.linspace(0,2*np.pi,50)  # x坐标输入\n",
    "y = np.sin(x)  # 计算对应x的正弦值\n",
    "plt.plot(x, y, 'bp--')  # 控制图形格式为蓝色带星虚线，显示正弦曲线\n",
    "plt.show()"
   ],
   "metadata": {
    "collapsed": false,
    "pycharm": {
     "name": "#%%\n"
    }
   }
  },
  {
   "cell_type": "code",
   "execution_count": 19,
   "outputs": [
    {
     "data": {
      "text/plain": "<Figure size 432x288 with 1 Axes>",
      "image/png": "[encoded data removed]"
     },
     "metadata": {},
     "output_type": "display_data"
    }
   ],
   "source": [
    "# 代码3-17 绘制饼图\n",
    "\n",
    "\n",
    "import matplotlib.pyplot as plt\n",
    "\n",
    "# The slices will be ordered and plotted counter-clockwise.\n",
    "labels = 'Frogs', 'Hogs', 'Dogs', 'Logs'  # 定义标签\n",
    "sizes = [15, 30, 45, 10]  # 每一块的比例\n",
    "colors = ['yellowgreen', 'gold', 'lightskyblue', 'lightcoral']  # 每一块的颜色\n",
    "explode = (0, 0.1, 0, 0)  # 突出显示，这里仅仅突出显示第二块（即'Hogs'）\n",
    "\n",
    "plt.pie(sizes, explode=explode, labels=labels, colors=colors, autopct='%1.1f%%', shadow=True, startangle=90)\n",
    "plt.axis('equal')  # 显示为圆（避免比例压缩为椭圆）\n",
    "plt.show()"
   ],
   "metadata": {
    "collapsed": false,
    "pycharm": {
     "name": "#%%\n"
    }
   }
  },
  {
   "cell_type": "code",
   "execution_count": 20,
   "outputs": [
    {
     "data": {
      "text/plain": "<Figure size 432x288 with 1 Axes>",
      "image/png": "[encoded data removed]"
     },
     "metadata": {
      "needs_background": "light"
     },
     "output_type": "display_data"
    }
   ],
   "source": [
    "# 代码3-18 绘制二维条形直方图\n",
    "\n",
    "import matplotlib.pyplot as plt\n",
    "import numpy as np\n",
    "x = np.random.randn(1000)  # 1000个服从正态分布的随机数\n",
    "plt.hist(x, 10)  # 分成10组进行绘制直方图\n",
    "plt.show()"
   ],
   "metadata": {
    "collapsed": false,
    "pycharm": {
     "name": "#%%\n"
    }
   }
  },
  {
   "cell_type": "code",
   "execution_count": 21,
   "outputs": [
    {
     "data": {
      "text/plain": "<Figure size 432x288 with 1 Axes>",
      "image/png": "[encoded data removed]"
     },
     "metadata": {
      "needs_background": "light"
     },
     "output_type": "display_data"
    }
   ],
   "source": [
    "# 代码3-19 绘制箱型图\n",
    "\n",
    "\n",
    "import matplotlib.pyplot as plt\n",
    "import numpy as np\n",
    "import pandas as pd\n",
    "x = np.random.randn(1000)  # 1000个服从正态分布的随机数\n",
    "D = pd.DataFrame([x, x+1]).T  # 构造两列的DataFrame\n",
    "D.plot(kind = 'box')  # 调用Series内置的绘图方法画图，用kind参数指定箱型图box\n",
    "plt.show()\n"
   ],
   "metadata": {
    "collapsed": false,
    "pycharm": {
     "name": "#%%\n"
    }
   }
  },
  {
   "cell_type": "code",
   "execution_count": 22,
   "outputs": [
    {
     "data": {
      "text/plain": "<Figure size 576x648 with 2 Axes>",
      "image/png": "[encoded data removed]"
     },
     "metadata": {
      "needs_background": "light"
     },
     "output_type": "display_data"
    }
   ],
   "source": [
    "# 代码3-20 使用plot(logy = True)函数进行绘图\n",
    "\n",
    "\n",
    "import matplotlib.pyplot as plt\n",
    "plt.rcParams['font.sans-serif'] = ['SimHei']  # 用来正常显示中文标签\n",
    "plt.rcParams['axes.unicode_minus'] = False  # 用来正常显示负号\n",
    "import numpy as np\n",
    "import pandas as pd\n",
    "\n",
    "x = pd.Series(np.exp(np.arange(20)))  # 原始数据\n",
    "plt.figure(figsize = (8, 9))  # 设置画布大小\n",
    "ax1 = plt.subplot(2, 1, 1)\n",
    "x.plot(label = '原始数据图', legend = True)\n",
    "\n",
    "ax1 = plt.subplot(2, 1, 2)\n",
    "x.plot(logy = True, label = '对数数据图', legend = True)\n",
    "plt.show()"
   ],
   "metadata": {
    "collapsed": false,
    "pycharm": {
     "name": "#%%\n"
    }
   }
  },
  {
   "cell_type": "code",
   "execution_count": 1,
   "outputs": [
    {
     "data": {
      "text/plain": "<Figure size 432x288 with 1 Axes>",
      "image/png": "[encoded data removed]"
     },
     "metadata": {
      "needs_background": "light"
     },
     "output_type": "display_data"
    }
   ],
   "source": [
    "# 代码3-21 绘制误差棒图\n",
    "\n",
    "\n",
    "import matplotlib.pyplot as plt\n",
    "plt.rcParams['font.sans-serif'] = ['SimHei']  # 用来正常显示中文标签\n",
    "plt.rcParams['axes.unicode_minus'] = False  # 用来正常显示负号\n",
    "import numpy as np\n",
    "import pandas as pd\n",
    "\n",
    "error = np.random.randn(10)  # 定义误差列\n",
    "y = pd.Series(np.sin(np.arange(10)))  # 均值数据列\n",
    "y.plot(yerr = error)  # 绘制误差图\n",
    "plt.show()"
   ],
   "metadata": {
    "collapsed": false,
    "pycharm": {
     "name": "#%%\n"
    }
   }
  },
  {
   "cell_type": "code",
   "execution_count": null,
   "outputs": [],
   "source": [],
   "metadata": {
    "collapsed": false,
    "pycharm": {
     "name": "#%%\n"
    }
   }
  }
 ],
 "metadata": {
  "kernelspec": {
   "display_name": "Python 3",
   "language": "python",
   "name": "python3"
  },
  "language_info": {
   "codemirror_mode": {
    "name": "ipython",
    "version": 2
   },
   "file_extension": ".py",
   "mimetype": "text/x-python",
   "name": "python",
   "nbconvert_exporter": "python",
   "pygments_lexer": "ipython2",
   "version": "2.7.6"
  }
 },
 "nbformat": 4,
 "nbformat_minor": 0
}