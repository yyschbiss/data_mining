{
 "cells": [
  {
   "cell_type": "code",
   "execution_count": 7,
   "metadata": {
    "collapsed": true
   },
   "outputs": [
    {
     "name": "stdout",
     "output_type": "stream",
     "text": [
      "                销量\n",
      "count   200.000000\n",
      "mean   2755.214700\n",
      "std     751.029772\n",
      "min      22.000000\n",
      "25%    2451.975000\n",
      "50%    2655.850000\n",
      "75%    3026.125000\n",
      "max    9106.440000\n"
     ]
    }
   ],
   "source": [
    "# -*- coding: utf-8 -*-\n",
    "\n",
    "# 代码3-1 使用describe()方法即可查看数据的基本情况\n",
    "import pandas as pd\n",
    "\n",
    "catering_sale = '../data/catering_sale.xls'  # 餐饮数据\n",
    "data = pd.read_excel(catering_sale, index_col=u'日期')  # 读取数据，指定“日期”列为索引列\n",
    "print(data.describe())"
   ]
  },
  {
   "cell_type": "code",
   "execution_count": 8,
   "outputs": [
    {
     "name": "stdout",
     "output_type": "stream",
     "text": [
      "异常值： [22.0 51.0 60.0 865.0 4060.3 4065.2 6607.4 9106.44]\n"
     ]
    },
    {
     "data": {
      "text/plain": "<Figure size 432x288 with 1 Axes>",
      "image/png": "[encoded data removed]"
     },
     "metadata": {
      "needs_background": "light"
     },
     "output_type": "display_data"
    }
   ],
   "source": [
    "# 代码3-2 餐饮销额数据异常值检测\n",
    "\n",
    "import matplotlib.pyplot as plt  # 导入图像库\n",
    "plt.rcParams['font.sans-serif'] = ['SimHei']  # 用来正常显示中文标签\n",
    "plt.rcParams['axes.unicode_minus'] = False  # 用来正常显示负号\n",
    "\n",
    "plt.figure()  # 建立图像\n",
    "p = data.boxplot(return_type='dict')  # 画箱线图，直接使用DataFrame的方法\n",
    "x = p['fliers'][0].get_xdata()  # 'fliers'即为异常值的标签\n",
    "y = p['fliers'][0].get_ydata()\n",
    "y.sort()  # 从小到大排序，该方法直接改变原对象\n",
    "print(\"异常值：\",y)\n",
    "'''\n",
    "用annotate添加注释\n",
    "其中有些相近的点，注解会出现重叠，难以看清，需要一些技巧来控制\n",
    "以下参数都是经过调试的，需要具体问题具体调试。\n",
    "'''\n",
    "for i in range(len(x)):\n",
    "    if i > 0:\n",
    "        plt.annotate(y[i], xy=(x[i], y[i]), xytext=(x[i] + 0.05 - 0.8 / (y[i] - y[i - 1]), y[i]))\n",
    "    else:\n",
    "        plt.annotate(y[i], xy=(x[i], y[i]), xytext=(x[i] + 0.08, y[i]))\n",
    "\n",
    "plt.show()  # 展示箱线图"
   ],
   "metadata": {
    "collapsed": false,
    "pycharm": {
     "name": "#%%\n"
    }
   }
  },
  {
   "cell_type": "code",
   "execution_count": null,
   "outputs": [],
   "source": [],
   "metadata": {
    "collapsed": false,
    "pycharm": {
     "name": "#%%\n"
    }
   }
  }
 ],
 "metadata": {
  "kernelspec": {
   "display_name": "Python 3",
   "language": "python",
   "name": "python3"
  },
  "language_info": {
   "codemirror_mode": {
    "name": "ipython",
    "version": 2
   },
   "file_extension": ".py",
   "mimetype": "text/x-python",
   "name": "python",
   "nbconvert_exporter": "python",
   "pygments_lexer": "ipython2",
   "version": "2.7.6"
  }
 },
 "nbformat": 4,
 "nbformat_minor": 0
}